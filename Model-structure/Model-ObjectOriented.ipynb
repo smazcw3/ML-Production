{
 "cells": [
  {
   "cell_type": "code",
   "execution_count": 1,
   "id": "6e7575e8",
   "metadata": {},
   "outputs": [],
   "source": [
    "#https://towardsdatascience.com/using-classes-for-machine-learning-2ed6c0713305\n",
    "#Data -- https://www.kaggle.com/datasets/budincsevity/szeged-weather"
   ]
  },
  {
   "cell_type": "code",
   "execution_count": 11,
   "id": "e326499f",
   "metadata": {},
   "outputs": [],
   "source": [
    "import pandas as pd\n",
    "import numpy as np\n",
    "from sklearn.model_selection import train_test_split\n",
    "from sklearn.linear_model import LinearRegression\n",
    "from sklearn.ensemble import RandomForestRegressor"
   ]
  },
  {
   "cell_type": "code",
   "execution_count": 37,
   "id": "ef08360e",
   "metadata": {},
   "outputs": [],
   "source": [
    "class Model:\n",
    "    def __init__(self, datafile = \"weatherHistory.csv\"):\n",
    "        self.df = pd.read_csv(datafile)\n",
    "        self.linear_reg = LinearRegression()\n",
    "        self.random_forest = RandomForestRegressor()\n",
    "        \n",
    "    def split(self, test_size):\n",
    "        '''\n",
    "        This function is for splitting the data into train and test set\n",
    "        '''\n",
    "        X = np.array(self.df[['Humidity', 'Pressure (millibars)']])\n",
    "        y = np.array(self.df['Temperature (C)'])\n",
    "        (self.X_train, self.X_test, \\\n",
    "         self.y_train, self.y_test) = train_test_split(X, y, \\\n",
    "                                                       test_size = test_size, \\\n",
    "                                                       random_state = 42)\n",
    "        \n",
    "    def fit(self, model_type = 'linearReg'):\n",
    "        '''\n",
    "        This function is for training the model\n",
    "        '''\n",
    "        if model_type == 'linearReg':\n",
    "            self.model = self.linear_reg.fit(self.X_train, self.y_train)\n",
    "        else:\n",
    "            self.model = self.random_forest.fit(self.X_train, self.y_train)\n",
    "        \n",
    "    def predict(self, input_value, model_type):\n",
    "        '''\n",
    "        This function is for making model predictions\n",
    "        '''\n",
    "        if model_type == 'linearReg':\n",
    "            if input_value == None:\n",
    "                result = self.linear_reg.predict(self.X_test)\n",
    "            else:\n",
    "                result = self.linear_reg.predict(np.array([input_value]))\n",
    "            return result\n",
    "        else:\n",
    "            if input_value == None:\n",
    "                result = self.random_forest.predict(self.X_test)\n",
    "            else:\n",
    "                result = self.random_forest.predict(np.array([input_value]))\n",
    "            return result"
   ]
  },
  {
   "cell_type": "code",
   "execution_count": 38,
   "id": "bdb7b805",
   "metadata": {},
   "outputs": [
    {
     "name": "stdout",
     "output_type": "stream",
     "text": [
      "[20.4392037   8.06649537  9.33705556 ... 20.58487037 19.61683333\n",
      " 10.46191138]\n",
      "Accuracy:  0.44786254068652176\n"
     ]
    }
   ],
   "source": [
    "if __name__ == \"__main__\":\n",
    "    model_inst = Model()\n",
    "    model_inst.split(0.2)\n",
    "    model_inst.fit(model_type = \"randomForest\")\n",
    "    print(model_inst.predict(input_value = None, model_type = \"randomForest\"))\n",
    "    print(\"Accuracy: \", model_inst.model.score(model_inst.X_test, model_inst.y_test))"
   ]
  },
  {
   "cell_type": "code",
   "execution_count": null,
   "id": "3ee518ae",
   "metadata": {},
   "outputs": [],
   "source": []
  }
 ],
 "metadata": {
  "kernelspec": {
   "display_name": "Python 3 (ipykernel)",
   "language": "python",
   "name": "python3"
  },
  "language_info": {
   "codemirror_mode": {
    "name": "ipython",
    "version": 3
   },
   "file_extension": ".py",
   "mimetype": "text/x-python",
   "name": "python",
   "nbconvert_exporter": "python",
   "pygments_lexer": "ipython3",
   "version": "3.8.3"
  }
 },
 "nbformat": 4,
 "nbformat_minor": 5
}
